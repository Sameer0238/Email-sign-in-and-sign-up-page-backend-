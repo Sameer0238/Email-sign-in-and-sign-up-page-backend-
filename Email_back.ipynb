{
 "cells": [
  {
   "cell_type": "code",
   "execution_count": null,
   "id": "c37ac29a",
   "metadata": {},
   "outputs": [],
   "source": [
    "def register():\n",
    "    email = input(\"Enter your email: \")\n",
    "    password = input(\"Enter your password: \")\n",
    "\n",
    "    with open(\"users.txt\", \"a\") as file:\n",
    "        file.write(f\"{email},{password}\\n\")\n",
    "    print(\"Registration successful.\\n\")\n",
    "\n",
    "\n",
    "def login():\n",
    "    email = input(\"Enter your email: \")\n",
    "    password = input(\"Enter your password: \")\n",
    "\n",
    "    found = False\n",
    "    with open(\"users.txt\", \"r\") as file:\n",
    "        for line in file:\n",
    "            saved_email, saved_password = line.strip().split(\",\")\n",
    "            if email == saved_email and password == saved_password:\n",
    "                found = True\n",
    "                break\n",
    "\n",
    "    if found:\n",
    "        print(\"Login successful.\\n\")\n",
    "    else:\n",
    "        print(\"Invalid email or password.\\n\")\n",
    "\n",
    "\n",
    "while True:\n",
    "    print(\"1. Register\")\n",
    "    print(\"2. Login\")\n",
    "    print(\"3. Exit\")\n",
    "    choice = input(\"Choose an option: \")\n",
    "\n",
    "    if choice == \"1\":\n",
    "        register()\n",
    "    elif choice == \"2\":\n",
    "        login()\n",
    "    elif choice == \"3\":\n",
    "        print(\"Goodbye!\")\n",
    "        break\n",
    "    else:\n",
    "        print(\"Invalid choice. Try again.\\n\")"
   ]
  }
 ],
 "metadata": {
  "kernelspec": {
   "display_name": "Python 3",
   "language": "python",
   "name": "python3"
  },
  "language_info": {
   "name": "python",
   "version": "3.11.9"
  }
 },
 "nbformat": 4,
 "nbformat_minor": 5
}
